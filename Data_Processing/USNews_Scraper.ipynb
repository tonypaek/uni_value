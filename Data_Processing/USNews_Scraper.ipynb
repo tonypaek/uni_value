{
 "metadata": {
  "name": "",
  "signature": "sha256:b4e75ff5aede7e18f4c323a5d5dc431f46b7ee0167ee75b3234c55b857f96e9c"
 },
 "nbformat": 3,
 "nbformat_minor": 0,
 "worksheets": [
  {
   "cells": [
    {
     "cell_type": "code",
     "collapsed": false,
     "input": [
      "from bs4 import BeautifulSoup as bs\n",
      "import urllib2\n",
      "import re\n",
      "import ast\n",
      "import sys\n",
      "import pandas as pd\n",
      "import numpy as np\n",
      "import matplotlib.pyplot as plt\n"
     ],
     "language": "python",
     "metadata": {},
     "outputs": [],
     "prompt_number": 2
    },
    {
     "cell_type": "code",
     "collapsed": false,
     "input": [
      "col=['Rank','Score','School','Location','Tuition','Total_Enrollment','Acceptance_Rate','Retention_Rate','Graduation_Rate']\n",
      "output=pd.DataFrame(columns=col)\n",
      "\n",
      "def uni_scraper(url,df):\n",
      "    page=urllib2.urlopen(url)\n",
      "    soup=bs(page)\n",
      "    data= soup.table\n",
      "    body=data.tbody\n",
      "    \n",
      "    unis=body.find_all('tr')\n",
      "    \n",
      "    # Clean data a bit to have uniformity\n",
      "    for i,uni in enumerate(unis):\n",
      "        a=uni.get_text(\"|\",strip=True).encode('ascii','ignore').split('|')\n",
      "        a=[x for x in a if (x!='Locked') and (x!='#') and (x!='Overall Score:') and (x!='Tie') and (x!='Rank Not Published.')]\n",
      "        if len(a)>9:\n",
      "            a=[x for x in a if ( x!='6') and (x!='8') and (x!='4') and (x!='1') and (x!='L') and\n",
      "               (x!='Program too new or too small for U.S. News to calculate a ranking.')]\n",
      "        df.loc[len(df)]=a\n",
      "    return df\n",
      "\n",
      "for i in range(12)[1:]:\n",
      "    name_url=\"http://colleges.usnews.rankingsandreviews.com/best-colleges/rankings/national-universities/data/page+\" + \\\n",
      "            str(i)\n",
      "    output=uni_scraper(name_url,output)\n",
      "    \n",
      "output.to_csv('uni_ranking.csv', index=True)"
     ],
     "language": "python",
     "metadata": {},
     "outputs": [],
     "prompt_number": 63
    },
    {
     "cell_type": "code",
     "collapsed": false,
     "input": [
      "a=[1,2,3,4]\n",
      "a=[x for x in a if (x!=2) and (x!=4)]\n",
      "print a"
     ],
     "language": "python",
     "metadata": {},
     "outputs": [
      {
       "output_type": "stream",
       "stream": "stdout",
       "text": [
        "[1, 3]\n"
       ]
      }
     ],
     "prompt_number": 46
    },
    {
     "cell_type": "code",
     "collapsed": false,
     "input": [],
     "language": "python",
     "metadata": {},
     "outputs": [
      {
       "html": [
        "<div style=\"max-height:1000px;max-width:1500px;overflow:auto;\">\n",
        "<table border=\"1\" class=\"dataframe\">\n",
        "  <thead>\n",
        "    <tr style=\"text-align: right;\">\n",
        "      <th></th>\n",
        "      <th>Rank</th>\n",
        "      <th>Score</th>\n",
        "      <th>School</th>\n",
        "      <th>Location</th>\n",
        "      <th>Tuition</th>\n",
        "      <th>Total_Enrollment</th>\n",
        "      <th>Acceptance_Rate</th>\n",
        "      <th>Retention_Rate</th>\n",
        "      <th>Graduation_Rate</th>\n",
        "    </tr>\n",
        "  </thead>\n",
        "  <tbody>\n",
        "    <tr>\n",
        "      <th>0</th>\n",
        "      <td> NaN</td>\n",
        "      <td> NaN</td>\n",
        "      <td> NaN</td>\n",
        "      <td> NaN</td>\n",
        "      <td> NaN</td>\n",
        "      <td> NaN</td>\n",
        "      <td> NaN</td>\n",
        "      <td> NaN</td>\n",
        "      <td> NaN</td>\n",
        "    </tr>\n",
        "  </tbody>\n",
        "</table>\n",
        "</div>"
       ],
       "metadata": {},
       "output_type": "pyout",
       "prompt_number": 140,
       "text": [
        "  Rank Score School Location Tuition Total_Enrollment Acceptance_Rate  \\\n",
        "0  NaN   NaN    NaN      NaN     NaN              NaN             NaN   \n",
        "\n",
        "  Retention_Rate Graduation_Rate  \n",
        "0            NaN             NaN  "
       ]
      }
     ],
     "prompt_number": 140
    },
    {
     "cell_type": "code",
     "collapsed": false,
     "input": [
      "output=pd.DataFrame()\n",
      "\n",
      "unis=body.find_all('tr')\n",
      "\n",
      "for uni in unis:\n",
      "#    print uni\n",
      "#    print uni\n",
      "    print score\n",
      "    '''\n",
      "    name= uni.find('a',class_='school-name').string\n",
      "    total_enrol= uni.find_all('td',class_='column-even table-column-even total_all_students ')[0].string\n",
      "    accept_rate= uni.find_all('td',class_='column-odd table-column-odd r_c_accept_rate ')[0].string\n",
      "    ret_rate= uni.find_all('td',class_='column-even table-column-even r_c_avg_pct_retention cluetip')[0].string\n",
      "    grad_rate= uni.find_all('td',class_='column-odd table-column-odd r_c_avg_pct_grad_6yr cluetip')[0].string\n",
      "    '''\n",
      "#    print score\n",
      "#    print name\n",
      "#    print total_enrol\n",
      "#    print accept_rate\n",
      "#    print ret_rate\n",
      "#    print grad_rate   \n",
      "    break\n",
      "    '''\n",
      "    a=uni\n",
      "    \n",
      "    get_text(\"|\",strip=True).encode('ascii','ignore').split('|')\n",
      "    del a[-2:]\n",
      "    del a[0]\n",
      "    if len(a)==11:\n",
      "        del a[1]\n",
      "    del a[1]\n",
      "    a[1]=a[1][0:2]\n",
      "    print a\n",
      "''' \n",
      "    \n",
      "    \n",
      "'''\n",
      "tds= uni.find_all('td')\n",
      "for i in tds:\n",
      "    print i.get_text(\"|\",strip=True)\n",
      "'''\n",
      "'''\n",
      "print rank\n",
      "print name\n",
      "print tuition\n",
      "print total_enrol\n",
      "print accep_rate\n",
      "print ret_rate\n",
      "print grad_rate\n",
      "'''\n",
      "\n"
     ],
     "language": "python",
     "metadata": {},
     "outputs": [
      {
       "output_type": "stream",
       "stream": "stdout",
       "text": [
        "[u'#', u'1', u'O', u'v', u'e', u'r', u'a', u'l', u'l', u' ', u'S', u'c', u'o', u'r', u'e', u':', u'1', u'0', u'0', u' ', u'o', u'u', u't', u' ', u'o', u'f', u' ', u'1', u'0', u'0', u'.']\n"
       ]
      },
      {
       "metadata": {},
       "output_type": "pyout",
       "prompt_number": 38,
       "text": [
        "'\\nprint rank\\nprint name\\nprint tuition\\nprint total_enrol\\nprint accep_rate\\nprint ret_rate\\nprint grad_rate\\n'"
       ]
      }
     ],
     "prompt_number": 38
    },
    {
     "cell_type": "code",
     "collapsed": false,
     "input": [
      "def scrape_college(yr): \n",
      "    \n",
      "  name_url=\"http://colleges.usnews.rankingsandreviews.com/best-colleges/rankings/national-universities/data/page+\" + \\\n",
      "            str(no_page) + '/all/all'\n",
      "  # Open a page with urllib2\n",
      "  page=urllib2.urlopen(name_url)\n",
      "\n",
      "  # Turn it into a soup instance\n",
      "  soup = bs(page)    \n",
      "\n",
      "  temp = soup.find(text=re.compile(\"rankingsTableData\"))\n",
      "\n",
      "  # Start of Table Data\n",
      "  start=temp.find('[')\n",
      "  # End of Table Data\n",
      "  end=temp.rfind(']')+1\n",
      "  # Concatenate the data\n",
      "  data= temp[start:end]\n",
      "  # Put it into a datatype in Python\n",
      "  dict_data=ast.literal_eval(data)\n",
      "\n",
      "  # Turn the data into a dataframe\n",
      "  df=pd.DataFrame(dict_data)  \n",
      "\n",
      "  # Drop unnecessary columns\n",
      "  df=df.drop([u'url',u'logo'],1)\n",
      " \n",
      "  # Add a column for the year \n",
      "  df['year']=yr\n",
      "  \n",
      "  return df\n",
      "\n",
      "def usage():\n",
      "  sys.stderr.write(\"\"\"\n",
      "  Usage: python fbr_team_scraper [output_file] \n",
      "         Scrapes football team recruiting data from\n",
      "         2002 to 2015, and stores it in the output_file\"\"\")\n",
      "\n",
      "if __name__ == \"__main__\":\n",
      "  if len(sys.argv)!=2:\n",
      "    usage()\n",
      "    sys.exit(1)\n",
      "\n",
      "  df=pd.DataFrame()  \n",
      "  for i in range(14):\n",
      "    yr=2002+i\n",
      "    df=df.append(scrape_fr_team(yr))\n",
      "    print \"scraping \" + str(yr) + \"....\"\n",
      "  print \"Writing to\" \n",
      "  df.to_csv(sys.argv[1])"
     ],
     "language": "python",
     "metadata": {},
     "outputs": []
    },
    {
     "cell_type": "code",
     "collapsed": true,
     "input": [
      "col=['Rank','Score','School','Location','Tuition','Total_Enrollment','Acceptance_Rate','Retention_Rate','Graduation_Rate']\n",
      "output=pd.DataFrame(columns=col)\n",
      "output.loc[len(output)]=a\n",
      "print output"
     ],
     "language": "python",
     "metadata": {},
     "outputs": [
      {
       "output_type": "stream",
       "stream": "stdout",
       "text": [
        "  Rank Score                             School         Location  Tuition  \\\n",
        "0   25    75  University of Southern California  Los Angeles, CA  $48,280   \n",
        "\n",
        "  Total_Enrollment Acceptance_Rate Retention_Rate Graduation_Rate  \n",
        "0           41,368           19.8%            97%             91%  \n"
       ]
      }
     ],
     "prompt_number": 132
    },
    {
     "cell_type": "code",
     "collapsed": false,
     "input": [
      "name_url=\"http://colleges.usnews.rankingsandreviews.com/best-colleges/rankings/national-universities/data/page+1\"\n",
      "\n",
      "page=urllib2.urlopen(name_url)\n",
      "soup=bs(page)\n",
      "data= soup.table\n",
      "header=data.thead\n",
      "for i in header.find_all('a'):\n",
      "    print i.string\n",
      "body=data.tbody"
     ],
     "language": "python",
     "metadata": {},
     "outputs": [
      {
       "output_type": "stream",
       "stream": "stdout",
       "text": [
        "U.S. News rank\n",
        "School\n",
        "Tuition and Fees\n",
        "Total enrollment\n",
        "Fall 2013 acceptance rate\n",
        "Average freshman retention rate\n",
        "6-year graduation rate\n",
        "Classes with fewer than 20 students\n",
        "SAT/ACT 25th-75th percentile\n"
       ]
      }
     ],
     "prompt_number": 7
    }
   ],
   "metadata": {}
  }
 ]
}