{
 "metadata": {
  "name": "",
  "signature": "sha256:948551464f4f10058d2808a77289c689f20cadf8922878d214d22cc08c43521b"
 },
 "nbformat": 3,
 "nbformat_minor": 0,
 "worksheets": [
  {
   "cells": [
    {
     "cell_type": "code",
     "collapsed": false,
     "input": [
      "from bs4 import BeautifulSoup as bs\n",
      "import urllib2\n",
      "import re\n",
      "import ast\n",
      "import sys\n",
      "import pandas as pd\n",
      "import numpy as np\n",
      "import matplotlib.pyplot as plt\n"
     ],
     "language": "python",
     "metadata": {},
     "outputs": [],
     "prompt_number": 1
    },
    {
     "cell_type": "code",
     "collapsed": false,
     "input": [
      "df=pd.read_csv('uni_ranking.csv')\n",
      "\n",
      "for i,x in enumerate(df['School']):\n",
      "    sep=['University of California','University of Michigan','University of North Carolina',\n",
      "         'University of Minnesota','University of Colorado','University of Nebraska',\n",
      "         'University of Maryland','University of Missouri','Indiana University-Purdue University']         \n",
      "    at=['University of Illinois']\n",
      "    rem=['Ohio State University','Pennsylvania State University','Brigham Young University']\n",
      "    \n",
      "    for a in sep:\n",
      "        if x.startswith(a):\n",
      "            df['School'][i]=a + ' - ' + x[len(a):]\n",
      "            print df['School'][i]\n",
      "            continue\n",
      "    for a in at:\n",
      "        if x.startswith(a):\n",
      "            df['School'][i]=a + ' at ' + x[len(a):]\n",
      "            print df['School'][i]\n",
      "            continue\n",
      "            \n",
      "    for a in rem:\n",
      "        if x.startswith(a):\n",
      "            df['School'][i]=a\n",
      "            continue\n",
      "\n",
      "df.to_csv('uni_ranking_clean.csv', index=True)"
     ],
     "language": "python",
     "metadata": {},
     "outputs": [
      {
       "output_type": "stream",
       "stream": "stdout",
       "text": [
        "University of California - Berkeley\n",
        "University of California - Los Angeles\n",
        "University of Michigan - Ann Arbor\n",
        "University of North Carolina - Chapel Hill\n",
        "University of California - San Diego\n",
        "University of California - Davis\n",
        "University of California - Santa Barbara\n",
        "University of California - Irvine\n",
        "University of Illinois at Urbana-Champaign\n",
        "University of Maryland - College Park\n",
        "University of Minnesota - Twin Cities\n",
        "University of California - Santa Cruz\n",
        "University of Colorado - Boulder\n",
        "University of Missouri - Columbia\n",
        "University of Nebraska - Lincoln\n",
        "University of California - Riverside\n",
        "University of Illinois at Chicago\n",
        "University of Maryland - Baltimore County\n",
        "University of North Carolina - Greensboro\n",
        "University of Missouri - Kansas City\n",
        "Indiana University-Purdue University - Indianapolis\n",
        "University of North Carolina - Charlotte\n",
        "University of Colorado - Denver\n",
        "University of Missouri - St. Louis\n",
        "University of Nebraska - Omaha\n"
       ]
      }
     ],
     "prompt_number": 16
    },
    {
     "cell_type": "code",
     "collapsed": false,
     "input": [
      "df=pd.read_csv('uni_value_clean.csv')\n",
      "for i, x in enumerate(df['Name']):\n",
      "    df['Name'][i]=unicode(x,errors='ignore').strip()\n",
      "df.to_csv('uni_value_very_clean.csv', index=True)"
     ],
     "language": "python",
     "metadata": {},
     "outputs": [],
     "prompt_number": 15
    },
    {
     "cell_type": "code",
     "collapsed": false,
     "input": [
      "df=pd.read_csv('uni_major.csv')\n",
      "for i, x in enumerate(df['Name']):\n",
      "    df['Name'][i]=unicode(x,errors='ignore').strip()\n",
      "df.to_csv('uni_major_clean.csv', index=True)"
     ],
     "language": "python",
     "metadata": {},
     "outputs": [],
     "prompt_number": 5
    },
    {
     "cell_type": "code",
     "collapsed": false,
     "input": [
      "df=pd.read_csv('uni_career.csv')\n",
      "for i, x in enumerate(df['Name']):\n",
      "    df['Name'][i]=unicode(x,errors='ignore').strip()\n",
      "df.to_csv('uni_career_clean.csv', index=True)"
     ],
     "language": "python",
     "metadata": {},
     "outputs": [],
     "prompt_number": 6
    }
   ],
   "metadata": {}
  }
 ]
}